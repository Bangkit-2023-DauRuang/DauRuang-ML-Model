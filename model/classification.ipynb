{
 "cells": [
  {
   "attachments": {},
   "cell_type": "markdown",
   "metadata": {},
   "source": [
    "<h1><strong>DauRuang "
   ]
  },
  {
   "cell_type": "code",
   "execution_count": 1,
   "metadata": {},
   "outputs": [],
   "source": [
    "import matplotlib.pyplot as plt\n",
    "import numpy as np\n",
    "import os\n",
    "from PIL import Image\n",
    "import shutil\n",
    "from shutil import copyfile\n",
    "import random\n",
    "import tensorflow as tf\n",
    "from tensorflow.keras.preprocessing.image import ImageDataGenerator\n",
    "from PIL import Image"
   ]
  },
  {
   "attachments": {},
   "cell_type": "markdown",
   "metadata": {},
   "source": [
    "<h2>Load Data"
   ]
  },
  {
   "cell_type": "code",
   "execution_count": 2,
   "metadata": {},
   "outputs": [
    {
     "name": "stdout",
     "output_type": "stream",
     "text": [
      "Convert Successful\n",
      "Converted image = 0\n",
      "There are 100 images of kaleng.\n",
      "\n",
      "Convert Successful\n",
      "Converted image = 0\n",
      "There are 100 images of kertas.\n",
      "\n",
      "Convert Successful\n",
      "Converted image = 0\n",
      "There are 100 images of minyak.\n",
      "\n",
      "Convert Successful\n",
      "Converted image = 0\n",
      "There are 100 images of organik.\n",
      "\n"
     ]
    }
   ],
   "source": [
    "source_path = './data'\n",
    "\n",
    "#converter to jpg file\n",
    "\n",
    "\n",
    "list=[]\n",
    "\n",
    "#Count total images each classes\n",
    "for i in os.listdir(source_path):\n",
    "    source_path_item = os.path.join(source_path, i)\n",
    "    n = 0\n",
    "    #Converter file to jpg\n",
    "    for j in os.listdir(source_path_item):\n",
    "        if j[-3:] == \"jpg\" or j[-3:] == \"gif\":\n",
    "            im = Image.open(os.path.join(source_path_item, j)).convert(\"RGB\")\n",
    "            im.save(os.path.join(source_path_item, j[:-3]+'jpeg'))\n",
    "            \n",
    "            #Removing Original file    \n",
    "            os.remove(os.path.join(source_path_item, j))\n",
    "            n += 1\n",
    "\n",
    "    print(\"Convert Successful\")\n",
    "    print(\"Converted image =\",n)\n",
    "    print(f\"There are {len(os.listdir(source_path_item))} images of\", i + \".\\n\")\n",
    "    list.append(i)"
   ]
  },
  {
   "attachments": {},
   "cell_type": "markdown",
   "metadata": {},
   "source": [
    "<h2>Split Data"
   ]
  },
  {
   "cell_type": "code",
   "execution_count": 3,
   "metadata": {},
   "outputs": [],
   "source": [
    "root_dir = './temp'\n",
    "\n",
    "#Empty directory to prevent FileExistsError is the function is run several times\n",
    "if os.path.exists(root_dir):\n",
    "    shutil.rmtree(root_dir)\n",
    "\n",
    "#Making Split Train and Validation Folder\n",
    "for i in list:\n",
    "    os.makedirs(os.path.join(root_dir,\"train\",i))\n",
    "    os.makedirs(os.path.join(root_dir,\"validation\",i))"
   ]
  },
  {
   "cell_type": "code",
   "execution_count": 4,
   "metadata": {},
   "outputs": [],
   "source": [
    "def split_data(SOURCE_DIR, TRAINING_DIR, VALIDATION_DIR, SPLIT_SIZE):\n",
    "\n",
    "  #Randomize\n",
    "  random_sample=random.sample(os.listdir(SOURCE_DIR),len(os.listdir(SOURCE_DIR)))\n",
    "  \n",
    "  #Split Data Size\n",
    "  size=int(len(random_sample)*SPLIT_SIZE)\n",
    "\n",
    "  target=TRAINING_DIR\n",
    "  i=0\n",
    "\n",
    "  for item in random_sample:\n",
    "    \n",
    "    item_source = os.path.join(SOURCE_DIR, item)\n",
    "\n",
    "    if os.path.getsize(item_source) == 0:\n",
    "      print(f'{item} is zero length, so ignoring.')\n",
    "    else: \n",
    "      copyfile(item_source, os.path.join(target, item))\n",
    "      i += 1\n",
    "\n",
    "    if i == size:\n",
    "      target = VALIDATION_DIR\n"
   ]
  },
  {
   "cell_type": "code",
   "execution_count": 5,
   "metadata": {
    "scrolled": true
   },
   "outputs": [
    {
     "name": "stdout",
     "output_type": "stream",
     "text": [
      "Split kaleng Successful\n",
      "There are 80 images of kaleng for training.\n",
      "There are 20 images of kaleng for validation.\n",
      "\n",
      "Split kertas Successful\n",
      "There are 80 images of kertas for training.\n",
      "There are 20 images of kertas for validation.\n",
      "\n",
      "Split minyak Successful\n",
      "There are 80 images of minyak for training.\n",
      "There are 20 images of minyak for validation.\n",
      "\n",
      "Split organik Successful\n",
      "There are 80 images of organik for training.\n",
      "There are 20 images of organik for validation.\n",
      "\n"
     ]
    }
   ],
   "source": [
    "train_dir = os.path.join(root_dir,\"train\")\n",
    "val_dir = os.path.join(root_dir,\"validation\")\n",
    "\n",
    "#Empty directories for run this cell multiple times\n",
    "for i in os.listdir(train_dir):\n",
    "  path = os.path.join(train_dir,i)\n",
    "  if len(os.listdir(path))>0:\n",
    "    for file in os.scandir(path):\n",
    "      os.remove(file.path)\n",
    "\n",
    "for i in os.listdir(val_dir):\n",
    "  path = os.path.join(val_dir,i)\n",
    "  if len(os.listdir(path))>0:\n",
    "    for file in os.scandir(path):\n",
    "      os.remove(file.path)\n",
    "\n",
    "#Split Size\n",
    "split_size = .8\n",
    "\n",
    "#Calling Split Function\n",
    "for i in list:\n",
    "  split_data(os.path.join(source_path,i), os.path.join(train_dir, i), os.path.join(val_dir, i), split_size)\n",
    "  print(\"Split\", i, \"Successful\")\n",
    "  print(f\"There are {len(os.listdir(os.path.join(train_dir,i)))} images of\", i + \" for training.\")\n",
    "  print(f\"There are {len(os.listdir(os.path.join(val_dir,i)))} images of\", i + \" for validation.\\n\")\n"
   ]
  },
  {
   "attachments": {},
   "cell_type": "markdown",
   "metadata": {},
   "source": [
    "<h2>Making Model"
   ]
  },
  {
   "cell_type": "code",
   "execution_count": 6,
   "metadata": {},
   "outputs": [],
   "source": [
    "NUM_CLASSES = len(os.listdir(source_path))\n",
    "\n",
    "#change for better accuracy based on your dataset\n",
    "BATCH_SIZE = 60\n",
    "\n",
    "base_model = tf.keras.applications.VGG16(input_shape=(225,225,3),\n",
    "                                         include_top=False,\n",
    "                                         weights='imagenet')"
   ]
  },
  {
   "cell_type": "code",
   "execution_count": 7,
   "metadata": {},
   "outputs": [
    {
     "name": "stdout",
     "output_type": "stream",
     "text": [
      "Model: \"vgg16\"\n",
      "_________________________________________________________________\n",
      " Layer (type)                Output Shape              Param #   \n",
      "=================================================================\n",
      " input_1 (InputLayer)        [(None, 225, 225, 3)]     0         \n",
      "                                                                 \n",
      " block1_conv1 (Conv2D)       (None, 225, 225, 64)      1792      \n",
      "                                                                 \n",
      " block1_conv2 (Conv2D)       (None, 225, 225, 64)      36928     \n",
      "                                                                 \n",
      " block1_pool (MaxPooling2D)  (None, 112, 112, 64)      0         \n",
      "                                                                 \n",
      " block2_conv1 (Conv2D)       (None, 112, 112, 128)     73856     \n",
      "                                                                 \n",
      " block2_conv2 (Conv2D)       (None, 112, 112, 128)     147584    \n",
      "                                                                 \n",
      " block2_pool (MaxPooling2D)  (None, 56, 56, 128)       0         \n",
      "                                                                 \n",
      " block3_conv1 (Conv2D)       (None, 56, 56, 256)       295168    \n",
      "                                                                 \n",
      " block3_conv2 (Conv2D)       (None, 56, 56, 256)       590080    \n",
      "                                                                 \n",
      " block3_conv3 (Conv2D)       (None, 56, 56, 256)       590080    \n",
      "                                                                 \n",
      " block3_pool (MaxPooling2D)  (None, 28, 28, 256)       0         \n",
      "                                                                 \n",
      " block4_conv1 (Conv2D)       (None, 28, 28, 512)       1180160   \n",
      "                                                                 \n",
      " block4_conv2 (Conv2D)       (None, 28, 28, 512)       2359808   \n",
      "                                                                 \n",
      " block4_conv3 (Conv2D)       (None, 28, 28, 512)       2359808   \n",
      "                                                                 \n",
      " block4_pool (MaxPooling2D)  (None, 14, 14, 512)       0         \n",
      "                                                                 \n",
      " block5_conv1 (Conv2D)       (None, 14, 14, 512)       2359808   \n",
      "                                                                 \n",
      " block5_conv2 (Conv2D)       (None, 14, 14, 512)       2359808   \n",
      "                                                                 \n",
      " block5_conv3 (Conv2D)       (None, 14, 14, 512)       2359808   \n",
      "                                                                 \n",
      " block5_pool (MaxPooling2D)  (None, 7, 7, 512)         0         \n",
      "                                                                 \n",
      "=================================================================\n",
      "Total params: 14,714,688\n",
      "Trainable params: 14,714,688\n",
      "Non-trainable params: 0\n",
      "_________________________________________________________________\n"
     ]
    }
   ],
   "source": [
    "base_model.summary()"
   ]
  },
  {
   "cell_type": "code",
   "execution_count": 8,
   "metadata": {},
   "outputs": [],
   "source": [
    "last_desired_layer = base_model.get_layer(\"block5_pool\")\n",
    "\n",
    "last_output = last_desired_layer.output"
   ]
  },
  {
   "cell_type": "code",
   "execution_count": 10,
   "metadata": {},
   "outputs": [],
   "source": [
    "for layer in base_model.layers:\n",
    " layer.trainable = False\n",
    "x = tf.keras.layers.Flatten()(last_output)\n",
    "x = tf.keras.layers.Dense(256, activation = 'relu')(x)\n",
    "x = tf.keras.layers.Dense(128, activation = 'relu')(x)\n",
    "x = tf.keras.layers.Dense(64, activation = 'relu')(x) \n",
    "x = tf.keras.layers.Dense(32, activation = 'relu')(x)\n",
    "x = tf.keras.layers.Dense(NUM_CLASSES, activation = 'softmax')(x) \n",
    "\n",
    "model = tf.keras.models.Model(inputs = base_model.input, outputs = x)\n",
    "\n",
    "model.compile(loss='categorical_crossentropy', optimizer='adam', metrics=['accuracy'])"
   ]
  },
  {
   "cell_type": "code",
   "execution_count": 11,
   "metadata": {},
   "outputs": [
    {
     "name": "stdout",
     "output_type": "stream",
     "text": [
      "Model: \"model_1\"\n",
      "_________________________________________________________________\n",
      " Layer (type)                Output Shape              Param #   \n",
      "=================================================================\n",
      " input_1 (InputLayer)        [(None, 225, 225, 3)]     0         \n",
      "                                                                 \n",
      " block1_conv1 (Conv2D)       (None, 225, 225, 64)      1792      \n",
      "                                                                 \n",
      " block1_conv2 (Conv2D)       (None, 225, 225, 64)      36928     \n",
      "                                                                 \n",
      " block1_pool (MaxPooling2D)  (None, 112, 112, 64)      0         \n",
      "                                                                 \n",
      " block2_conv1 (Conv2D)       (None, 112, 112, 128)     73856     \n",
      "                                                                 \n",
      " block2_conv2 (Conv2D)       (None, 112, 112, 128)     147584    \n",
      "                                                                 \n",
      " block2_pool (MaxPooling2D)  (None, 56, 56, 128)       0         \n",
      "                                                                 \n",
      " block3_conv1 (Conv2D)       (None, 56, 56, 256)       295168    \n",
      "                                                                 \n",
      " block3_conv2 (Conv2D)       (None, 56, 56, 256)       590080    \n",
      "                                                                 \n",
      " block3_conv3 (Conv2D)       (None, 56, 56, 256)       590080    \n",
      "                                                                 \n",
      " block3_pool (MaxPooling2D)  (None, 28, 28, 256)       0         \n",
      "                                                                 \n",
      " block4_conv1 (Conv2D)       (None, 28, 28, 512)       1180160   \n",
      "                                                                 \n",
      " block4_conv2 (Conv2D)       (None, 28, 28, 512)       2359808   \n",
      "                                                                 \n",
      " block4_conv3 (Conv2D)       (None, 28, 28, 512)       2359808   \n",
      "                                                                 \n",
      " block4_pool (MaxPooling2D)  (None, 14, 14, 512)       0         \n",
      "                                                                 \n",
      " block5_conv1 (Conv2D)       (None, 14, 14, 512)       2359808   \n",
      "                                                                 \n",
      " block5_conv2 (Conv2D)       (None, 14, 14, 512)       2359808   \n",
      "                                                                 \n",
      " block5_conv3 (Conv2D)       (None, 14, 14, 512)       2359808   \n",
      "                                                                 \n",
      " block5_pool (MaxPooling2D)  (None, 7, 7, 512)         0         \n",
      "                                                                 \n",
      " flatten_1 (Flatten)         (None, 25088)             0         \n",
      "                                                                 \n",
      " dense_5 (Dense)             (None, 256)               6422784   \n",
      "                                                                 \n",
      " dense_6 (Dense)             (None, 128)               32896     \n",
      "                                                                 \n",
      " dense_7 (Dense)             (None, 64)                8256      \n",
      "                                                                 \n",
      " dense_8 (Dense)             (None, 32)                2080      \n",
      "                                                                 \n",
      " dense_9 (Dense)             (None, 4)                 132       \n",
      "                                                                 \n",
      "=================================================================\n",
      "Total params: 21,180,836\n",
      "Trainable params: 6,466,148\n",
      "Non-trainable params: 14,714,688\n",
      "_________________________________________________________________\n"
     ]
    }
   ],
   "source": [
    "model.summary()"
   ]
  },
  {
   "cell_type": "code",
   "execution_count": 12,
   "metadata": {},
   "outputs": [
    {
     "name": "stdout",
     "output_type": "stream",
     "text": [
      "Found 320 images belonging to 4 classes.\n",
      "Found 80 images belonging to 4 classes.\n"
     ]
    }
   ],
   "source": [
    "train_datagen = ImageDataGenerator(rescale=1.0/255,\n",
    "                                     rotation_range=20,\n",
    "                                     width_shift_range=0.2,\n",
    "                                     height_shift_range=0.2,\n",
    "                                     horizontal_flip=True,\n",
    "                                     fill_mode='nearest')\n",
    "\n",
    "train_generator = train_datagen.flow_from_directory(directory=train_dir,\n",
    "                                                    target_size=(225,225), \n",
    "                                                    shuffle=False, \n",
    "                                                    class_mode='categorical')\n",
    "\n",
    "validation_datagen = ImageDataGenerator(rescale=1.0/255,\n",
    "                                     rotation_range=20,\n",
    "                                     width_shift_range=0.2,\n",
    "                                     height_shift_range=0.2,\n",
    "                                     horizontal_flip=True,\n",
    "                                     fill_mode='nearest')\n",
    "validation_generator = validation_datagen.flow_from_directory(directory=val_dir, \n",
    "                                                              target_size=(225,225),\n",
    "                                                              shuffle=False, \n",
    "                                                              class_mode='categorical')"
   ]
  },
  {
   "cell_type": "code",
   "execution_count": 13,
   "metadata": {
    "scrolled": true
   },
   "outputs": [
    {
     "name": "stdout",
     "output_type": "stream",
     "text": [
      "Epoch 1/25\n",
      "6/6 [==============================] - 22s 1s/step - loss: 2.4976 - accuracy: 0.3333 - val_loss: 4.0007 - val_accuracy: 0.3438\n",
      "Epoch 2/25\n",
      "6/6 [==============================] - 7s 1s/step - loss: 3.2166 - accuracy: 0.2708 - val_loss: 2.7697 - val_accuracy: 0.4688\n",
      "Epoch 3/25\n",
      "6/6 [==============================] - 7s 1s/step - loss: 1.9503 - accuracy: 0.3646 - val_loss: 1.7189 - val_accuracy: 0.3438\n",
      "Epoch 4/25\n",
      "6/6 [==============================] - 7s 1s/step - loss: 1.6017 - accuracy: 0.3594 - val_loss: 1.2126 - val_accuracy: 0.3750\n",
      "Epoch 5/25\n",
      "6/6 [==============================] - 6s 1s/step - loss: 1.2585 - accuracy: 0.5469 - val_loss: 0.9360 - val_accuracy: 0.6562\n",
      "Epoch 6/25\n",
      "6/6 [==============================] - 6s 1s/step - loss: 1.0844 - accuracy: 0.5260 - val_loss: 0.8339 - val_accuracy: 0.6094\n",
      "Epoch 7/25\n",
      "6/6 [==============================] - 6s 1s/step - loss: 0.9104 - accuracy: 0.6198 - val_loss: 0.9972 - val_accuracy: 0.5625\n",
      "Epoch 8/25\n",
      "6/6 [==============================] - 7s 1s/step - loss: 0.9052 - accuracy: 0.6667 - val_loss: 0.7562 - val_accuracy: 0.7656\n",
      "Epoch 9/25\n",
      "6/6 [==============================] - 6s 1s/step - loss: 0.4809 - accuracy: 0.8490 - val_loss: 0.6302 - val_accuracy: 0.7500\n",
      "Epoch 10/25\n",
      "6/6 [==============================] - 6s 1s/step - loss: 0.6446 - accuracy: 0.7240 - val_loss: 0.4789 - val_accuracy: 0.8594\n",
      "Epoch 11/25\n",
      "6/6 [==============================] - 7s 1s/step - loss: 0.4294 - accuracy: 0.8385 - val_loss: 0.5653 - val_accuracy: 0.7812\n",
      "Epoch 12/25\n",
      "6/6 [==============================] - 6s 1s/step - loss: 0.3788 - accuracy: 0.8698 - val_loss: 0.7148 - val_accuracy: 0.6875\n",
      "Epoch 13/25\n",
      "6/6 [==============================] - 7s 1s/step - loss: 0.4090 - accuracy: 0.8438 - val_loss: 0.5146 - val_accuracy: 0.7969\n",
      "Epoch 14/25\n",
      "6/6 [==============================] - 7s 1s/step - loss: 0.6267 - accuracy: 0.7552 - val_loss: 0.9577 - val_accuracy: 0.7031\n",
      "Epoch 15/25\n",
      "6/6 [==============================] - 6s 985ms/step - loss: 0.5571 - accuracy: 0.7760 - val_loss: 0.5644 - val_accuracy: 0.7500\n",
      "Epoch 16/25\n",
      "6/6 [==============================] - 6s 1s/step - loss: 0.4990 - accuracy: 0.8333 - val_loss: 0.4942 - val_accuracy: 0.7500\n",
      "Epoch 17/25\n",
      "6/6 [==============================] - 7s 1s/step - loss: 0.4119 - accuracy: 0.8385 - val_loss: 0.5089 - val_accuracy: 0.7812\n",
      "Epoch 18/25\n",
      "6/6 [==============================] - 7s 1s/step - loss: 0.2462 - accuracy: 0.9219 - val_loss: 0.6087 - val_accuracy: 0.7656\n",
      "Epoch 19/25\n",
      "6/6 [==============================] - 7s 1s/step - loss: 0.3503 - accuracy: 0.8802 - val_loss: 0.3790 - val_accuracy: 0.8281\n",
      "Epoch 20/25\n",
      "6/6 [==============================] - 7s 1s/step - loss: 0.2389 - accuracy: 0.9219 - val_loss: 0.4130 - val_accuracy: 0.8281\n",
      "Epoch 21/25\n",
      "6/6 [==============================] - 7s 1s/step - loss: 0.2735 - accuracy: 0.8802 - val_loss: 0.4670 - val_accuracy: 0.7500\n",
      "Epoch 22/25\n",
      "6/6 [==============================] - 6s 1s/step - loss: 0.2035 - accuracy: 0.9219 - val_loss: 0.3960 - val_accuracy: 0.8281\n",
      "Epoch 23/25\n",
      "6/6 [==============================] - 7s 1s/step - loss: 0.1784 - accuracy: 0.9375 - val_loss: 0.3662 - val_accuracy: 0.8594\n",
      "Epoch 24/25\n",
      "6/6 [==============================] - 7s 1s/step - loss: 0.1332 - accuracy: 0.9688 - val_loss: 0.3273 - val_accuracy: 0.9062\n",
      "Epoch 25/25\n",
      "6/6 [==============================] - 7s 1s/step - loss: 0.1645 - accuracy: 0.9635 - val_loss: 0.3004 - val_accuracy: 0.9062\n",
      "Training Completed!\n"
     ]
    }
   ],
   "source": [
    "training_steps_per_epoch = np.ceil(train_generator.samples / BATCH_SIZE)\n",
    "validation_steps_per_epoch = np.ceil(validation_generator.samples / BATCH_SIZE)\n",
    "\n",
    "\n",
    "history = model.fit(train_generator, \n",
    "                    steps_per_epoch = training_steps_per_epoch, \n",
    "                    validation_data=validation_generator, \n",
    "                    validation_steps=validation_steps_per_epoch,\n",
    "                    epochs=25, #Recommended 25-30 Epochs \n",
    "                    verbose=1)\n",
    "\n",
    "print('Training Completed!')"
   ]
  },
  {
   "cell_type": "code",
   "execution_count": 14,
   "metadata": {},
   "outputs": [
    {
     "data": {
      "image/png": "[encoded data removed]",
      "text/plain": [
       "<Figure size 640x480 with 1 Axes>"
      ]
     },
     "metadata": {},
     "output_type": "display_data"
    },
    {
     "name": "stdout",
     "output_type": "stream",
     "text": [
      "\n"
     ]
    },
    {
     "data": {
      "image/png": "[encoded data removed]",
      "text/plain": [
       "<Figure size 640x480 with 1 Axes>"
      ]
     },
     "metadata": {},
     "output_type": "display_data"
    }
   ],
   "source": [
    "acc=history.history['accuracy']\n",
    "val_acc=history.history['val_accuracy']\n",
    "loss=history.history['loss']\n",
    "val_loss=history.history['val_loss']\n",
    "\n",
    "epochs=range(len(acc))\n",
    "plt.plot(epochs, acc, 'r', \"Training Accuracy\")\n",
    "plt.plot(epochs, val_acc, 'b', \"Validation Accuracy\")\n",
    "plt.title('Training and validation accuracy')\n",
    "plt.show()\n",
    "print(\"\")\n",
    "plt.plot(epochs, loss, 'r', \"Training Loss\")\n",
    "plt.plot(epochs, val_loss, 'b', \"Validation Loss\")\n",
    "plt.show()"
   ]
  },
  {
   "cell_type": "code",
   "execution_count": 18,
   "metadata": {},
   "outputs": [
    {
     "name": "stderr",
     "output_type": "stream",
     "text": [
      "C:\\Users\\bunmi\\AppData\\Local\\Temp\\ipykernel_17936\\2404799955.py:4: UserWarning: `Model.predict_generator` is deprecated and will be removed in a future version. Please use `Model.predict`, which supports generators.\n",
      "  Y_pred = model.predict_generator(validation_generator)\n"
     ]
    },
    {
     "name": "stdout",
     "output_type": "stream",
     "text": [
      "[[18  1  1  0]\n",
      " [ 1 19  0  0]\n",
      " [ 2  0 18  0]\n",
      " [ 0  0  0 20]]\n",
      "              precision    recall  f1-score   support\n",
      "\n",
      "      kaleng       0.86      0.90      0.88        20\n",
      "      kertas       0.95      0.95      0.95        20\n",
      "      minyak       0.95      0.90      0.92        20\n",
      "     organik       1.00      1.00      1.00        20\n",
      "\n",
      "    accuracy                           0.94        80\n",
      "   macro avg       0.94      0.94      0.94        80\n",
      "weighted avg       0.94      0.94      0.94        80\n",
      "\n"
     ]
    },
    {
     "data": {
      "image/png": "[encoded data removed]",
      "text/plain": [
       "<Figure size 1000x1000 with 1 Axes>"
      ]
     },
     "metadata": {},
     "output_type": "display_data"
    }
   ],
   "source": [
    "from mlxtend.plotting import plot_confusion_matrix\n",
    "from sklearn.metrics import confusion_matrix, classification_report\n",
    "\n",
    "Y_pred = model.predict_generator(validation_generator)\n",
    "y_pred = np.argmax(Y_pred, axis=1)\n",
    "mat = confusion_matrix(validation_generator.classes, y_pred)\n",
    "print(mat)\n",
    "plot_confusion_matrix(conf_mat=mat, figsize=(10,10), class_names= list)\n",
    "print(classification_report(validation_generator.classes, y_pred, target_names=list))"
   ]
  },
  {
   "cell_type": "code",
   "execution_count": null,
   "metadata": {},
   "outputs": [
    {
     "name": "stderr",
     "output_type": "stream",
     "text": [
      "WARNING:absl:Found untraced functions such as _jit_compiled_convolution_op, _jit_compiled_convolution_op, _jit_compiled_convolution_op, _jit_compiled_convolution_op, _jit_compiled_convolution_op while saving (showing 5 of 13). These functions will not be directly callable after loading.\n"
     ]
    },
    {
     "name": "stdout",
     "output_type": "stream",
     "text": [
      "INFO:tensorflow:Assets written to: saved_model/my_model\\assets\n"
     ]
    },
    {
     "name": "stderr",
     "output_type": "stream",
     "text": [
      "INFO:tensorflow:Assets written to: saved_model/my_model\\assets\n"
     ]
    }
   ],
   "source": [
    "#Save Model\n",
    "model.save('saved_model/my_model')"
   ]
  }
 ],
 "metadata": {
  "kernelspec": {
   "display_name": "Python 3 (ipykernel)",
   "language": "python",
   "name": "python3"
  },
  "language_info": {
   "codemirror_mode": {
    "name": "ipython",
    "version": 3
   },
   "file_extension": ".py",
   "mimetype": "text/x-python",
   "name": "python",
   "nbconvert_exporter": "python",
   "pygments_lexer": "ipython3",
   "version": "3.8.13"
  }
 },
 "nbformat": 4,
 "nbformat_minor": 2
}
