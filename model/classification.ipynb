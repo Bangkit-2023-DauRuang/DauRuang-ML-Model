{
 "cells": [
  {
   "attachments": {},
   "cell_type": "markdown",
   "metadata": {},
   "source": [
    "<h1><strong>DauRuang "
   ]
  },
  {
   "cell_type": "code",
   "execution_count": 1,
   "metadata": {},
   "outputs": [],
   "source": [
    "import os\n",
    "from PIL import Image\n",
    "import shutil\n",
    "from shutil import copyfile\n",
    "import random\n",
    "import tensorflow as tf\n",
    "from tensorflow.keras.preprocessing.image import ImageDataGenerator"
   ]
  },
  {
   "attachments": {},
   "cell_type": "markdown",
   "metadata": {},
   "source": [
    "<h2>Load Data"
   ]
  },
  {
   "cell_type": "code",
   "execution_count": 2,
   "metadata": {},
   "outputs": [
    {
     "name": "stdout",
     "output_type": "stream",
     "text": [
      "Convert Successful\n",
      "Converted image = 0\n",
      "There are 0 images of kabel.\n",
      "\n",
      "Convert Successful\n",
      "Converted image = 24\n",
      "There are 100 images of kaca.\n",
      "\n",
      "Convert Successful\n",
      "Converted image = 0\n",
      "There are 0 images of kaleng.\n",
      "\n",
      "Convert Successful\n",
      "Converted image = 0\n",
      "There are 0 images of kertas.\n",
      "\n",
      "Convert Successful\n",
      "Converted image = 0\n",
      "There are 100 images of minyak.\n",
      "\n",
      "Convert Successful\n",
      "Converted image = 0\n",
      "There are 0 images of organik.\n",
      "\n",
      "Convert Successful\n",
      "Converted image = 0\n",
      "There are 0 images of plastik.\n",
      "\n"
     ]
    }
   ],
   "source": [
    "source_path = './data'\n",
    "\n",
    "#converter to jpg file\n",
    "\n",
    "\n",
    "list=[]\n",
    "\n",
    "#Count total images each classes\n",
    "for i in os.listdir(source_path):\n",
    "    source_path_item = os.path.join(source_path, i)\n",
    "    n = 0\n",
    "    #Converter file to jpg\n",
    "    for j in os.listdir(source_path_item):\n",
    "        if (j[-4:] == \"webp\" or j[-3:] == \"PNG\" or j[-3:] == \"png\" or j[-4:] == \"jpeg\"):\n",
    "            im = Image.open(os.path.join(source_path_item, j)).convert(\"RGB\")\n",
    "            if(j[-4:] == \"webp\" or j[-4:] == \"jpeg\"):\n",
    "                im.save(os.path.join(source_path_item, j[:-4]+\"jpg\"),\"jpeg\")\n",
    "            if(j[-3:] == \"PNG\" or j[-3:] == \"png\"):\n",
    "                im.save(os.path.join(source_path_item, j[:-3]+\"jpg\"),\"jpeg\")\n",
    "            \n",
    "            #Removing Original file    \n",
    "            os.remove(os.path.join(source_path_item, j))\n",
    "            n += 1\n",
    "\n",
    "    print(\"Convert Successful\")\n",
    "    print(\"Converted image =\",n)\n",
    "    print(f\"There are {len(os.listdir(source_path_item))} images of\", i + \".\\n\")\n",
    "    list.append(i)"
   ]
  },
  {
   "attachments": {},
   "cell_type": "markdown",
   "metadata": {},
   "source": [
    "<h2>Split Data"
   ]
  },
  {
   "cell_type": "code",
   "execution_count": 3,
   "metadata": {},
   "outputs": [],
   "source": [
    "root_dir = './temp'\n",
    "\n",
    "#Empty directory to prevent FileExistsError is the function is run several times\n",
    "if os.path.exists(root_dir):\n",
    "    shutil.rmtree(root_dir)\n",
    "\n",
    "#Making Split Train and Validation Folder\n",
    "for i in list:\n",
    "    os.makedirs(os.path.join(root_dir,\"train\",i))\n",
    "    os.makedirs(os.path.join(root_dir,\"validation\",i))"
   ]
  },
  {
   "cell_type": "code",
   "execution_count": 4,
   "metadata": {},
   "outputs": [],
   "source": [
    "def split_data(SOURCE_DIR, TRAINING_DIR, VALIDATION_DIR, SPLIT_SIZE):\n",
    "\n",
    "  #Randomize\n",
    "  random_sample=random.sample(os.listdir(SOURCE_DIR),len(os.listdir(SOURCE_DIR)))\n",
    "  \n",
    "  #Split Data Size\n",
    "  size=int(len(random_sample)*SPLIT_SIZE)\n",
    "\n",
    "  target=TRAINING_DIR\n",
    "  i=0\n",
    "\n",
    "  for item in random_sample:\n",
    "    \n",
    "    item_source = os.path.join(SOURCE_DIR, item)\n",
    "\n",
    "    if os.path.getsize(item_source) == 0:\n",
    "      print(f'{item} is zero length, so ignoring.')\n",
    "    else: \n",
    "      copyfile(item_source, os.path.join(target, item))\n",
    "      i += 1\n",
    "\n",
    "    if i == size:\n",
    "      target = VALIDATION_DIR\n"
   ]
  },
  {
   "cell_type": "code",
   "execution_count": 5,
   "metadata": {},
   "outputs": [
    {
     "name": "stdout",
     "output_type": "stream",
     "text": [
      "Split kabel Successful\n",
      "There are 0 images of kabel for training.\n",
      "There are 0 images of kabel for validation.\n",
      "\n",
      "Split kaca Successful\n",
      "There are 80 images of kaca for training.\n",
      "There are 20 images of kaca for validation.\n",
      "\n",
      "Split kaleng Successful\n",
      "There are 0 images of kaleng for training.\n",
      "There are 0 images of kaleng for validation.\n",
      "\n",
      "Split kertas Successful\n",
      "There are 0 images of kertas for training.\n",
      "There are 0 images of kertas for validation.\n",
      "\n",
      "Split minyak Successful\n",
      "There are 80 images of minyak for training.\n",
      "There are 20 images of minyak for validation.\n",
      "\n",
      "Split organik Successful\n",
      "There are 0 images of organik for training.\n",
      "There are 0 images of organik for validation.\n",
      "\n",
      "Split plastik Successful\n",
      "There are 0 images of plastik for training.\n",
      "There are 0 images of plastik for validation.\n",
      "\n"
     ]
    }
   ],
   "source": [
    "train_dir = os.path.join(root_dir,\"train\")\n",
    "val_dir = os.path.join(root_dir,\"validation\")\n",
    "\n",
    "#Empty directories for run this cell multiple times\n",
    "for i in os.listdir(train_dir):\n",
    "  path = os.path.join(train_dir,i)\n",
    "  if len(os.listdir(path))>0:\n",
    "    for file in os.scandir(path):\n",
    "      os.remove(file.path)\n",
    "\n",
    "for i in os.listdir(val_dir):\n",
    "  path = os.path.join(val_dir,i)\n",
    "  if len(os.listdir(path))>0:\n",
    "    for file in os.scandir(path):\n",
    "      os.remove(file.path)\n",
    "\n",
    "#Split Size\n",
    "split_size = .8\n",
    "\n",
    "#Calling Split Function\n",
    "for i in list:\n",
    "  split_data(os.path.join(source_path,i), os.path.join(train_dir, i), os.path.join(val_dir, i), split_size)\n",
    "  print(\"Split\", i, \"Successful\")\n",
    "  print(f\"There are {len(os.listdir(os.path.join(train_dir,i)))} images of\", i + \" for training.\")\n",
    "  print(f\"There are {len(os.listdir(os.path.join(val_dir,i)))} images of\", i + \" for validation.\\n\")\n"
   ]
  },
  {
   "attachments": {},
   "cell_type": "markdown",
   "metadata": {},
   "source": [
    "<h2>Making Model"
   ]
  },
  {
   "cell_type": "code",
   "execution_count": null,
   "metadata": {},
   "outputs": [],
   "source": []
  },
  {
   "cell_type": "code",
   "execution_count": null,
   "metadata": {},
   "outputs": [],
   "source": []
  }
 ],
 "metadata": {
  "kernelspec": {
   "display_name": "Python 3",
   "language": "python",
   "name": "python3"
  },
  "language_info": {
   "codemirror_mode": {
    "name": "ipython",
    "version": 3
   },
   "file_extension": ".py",
   "mimetype": "text/x-python",
   "name": "python",
   "nbconvert_exporter": "python",
   "pygments_lexer": "ipython3",
   "version": "3.9.7"
  },
  "orig_nbformat": 4
 },
 "nbformat": 4,
 "nbformat_minor": 2
}
